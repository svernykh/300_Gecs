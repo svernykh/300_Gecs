{
 "cells": [
  {
   "cell_type": "code",
<<<<<<< HEAD
   "execution_count": null,
   "id": "7c32ff38",
   "metadata": {},
   "outputs": [],
=======
   "execution_count": 11,
   "id": "7c32ff38",
   "metadata": {},
   "outputs": [
    {
     "name": "stdout",
     "output_type": "stream",
     "text": [
      "Installing PyTorch with CUDA support...\n",
      "Error during installation: Command '['c:\\\\Users\\\\Useradmin\\\\300Gecs\\\\300Gecs\\\\300Gecs\\\\Scripts\\\\python.exe', '-m', 'pip', 'install', 'torch', 'torchvision', 'torchaudio', '--index-url', 'https://download.pytorch.org/whl/cu121']' returned non-zero exit status 1.\n",
      "Error during installation: Command '['c:\\\\Users\\\\Useradmin\\\\300Gecs\\\\300Gecs\\\\300Gecs\\\\Scripts\\\\python.exe', '-m', 'pip', 'install', 'torch', 'torchvision', 'torchaudio', '--index-url', 'https://download.pytorch.org/whl/cu121']' returned non-zero exit status 1.\n"
     ]
    }
   ],
>>>>>>> bfd44bdfa90e5f1ccc9ef9a87d782edbb0fc0155
   "source": [
    "import sys\n",
    "import subprocess\n",
    "\n",
    "def install_torch_cuda():\n",
    "    try:\n",
    "        import pip\n",
    "        print(\"Installing PyTorch with CUDA support...\")\n",
    "        subprocess.check_call([sys.executable, \"-m\", \"pip\", \"install\", \n",
    "                             \"torch\", \"torchvision\", \"torchaudio\", \n",
    "                             \"--index-url\", \"https://download.pytorch.org/whl/cu121\"])\n",
    "        print(\"Installation completed. Please restart the kernel.\")\n",
    "    except Exception as e:\n",
    "        print(f\"Error during installation: {str(e)}\")\n",
    "        \n",
    "install_torch_cuda()"
   ]
  },
  {
   "cell_type": "code",
<<<<<<< HEAD
   "execution_count": 2,
=======
   "execution_count": 12,
>>>>>>> bfd44bdfa90e5f1ccc9ef9a87d782edbb0fc0155
   "id": "03922431",
   "metadata": {},
   "outputs": [
    {
     "name": "stdout",
     "output_type": "stream",
     "text": [
<<<<<<< HEAD
      "Python version: 3.11.9 (tags/v3.11.9:de54cf5, Apr  2 2024, 10:12:12) [MSC v.1938 64 bit (AMD64)]\n",
      "\n",
      "Checking for NVIDIA GPU...\n",
      "NVIDIA GPU detected:\n",
      "Mon Sep 22 16:38:33 2025       \n",
      "+-----------------------------------------------------------------------------------------+\n",
      "| NVIDIA-SMI 576.88                 Driver Version: 576.88         CUDA Version: 12.9     |\n",
      "|-----------------------------------------+------------------------+----------------------+\n",
      "| GPU  Name                  Driver-Model | Bus-Id          Disp.A | Volatile Uncorr. ECC |\n",
      "| Fan  Temp   Perf          Pwr:Usage/Cap |           Memory-Usage | GPU-Util  Compute M. |\n",
      "|                                         |                        |               MIG M. |\n",
      "|=========================================+========================+======================|\n",
      "|   0  NVIDIA GeForce RTX 4050 ...  WDDM  |   00000000:01:00.0  On |                  N/A |\n",
      "| N/A   60C    P0             24W /  120W |    1823MiB /   6141MiB |     16%      Default |\n",
      "|                                         |                        |                  N/A |\n",
      "+-----------------------------------------+------------------------+----------------------+\n",
      "                                                                                         \n",
      "+-----------------------------------------------------------------------------------------+\n",
      "| Processes:                                                                              |\n",
      "|  GPU   GI   CI              PID   Type   Process name                        GPU Memory |\n",
      "|        ID   ID                                                               Usage      |\n",
      "|=========================================================================================|\n",
      "|    0   N/A  N/A            2052    C+G   ...ram Files\\Zen Browser\\zen.exe      N/A      |\n",
      "|    0   N/A  N/A            2376    C+G   ...indows\\System32\\ShellHost.exe      N/A      |\n",
      "|    0   N/A  N/A            5456    C+G   ...App_cw5n1h2txyewy\\LockApp.exe      N/A      |\n",
      "|    0   N/A  N/A            5740    C+G   ...ram Files\\Zen Browser\\zen.exe      N/A      |\n",
      "|    0   N/A  N/A            8960    C+G   ...lpaper_engine\\wallpaper32.exe      N/A      |\n",
      "|    0   N/A  N/A           10080    C+G   C:\\Windows\\explorer.exe               N/A      |\n",
      "|    0   N/A  N/A           10420    C+G   ...2txyewy\\CrossDeviceResume.exe      N/A      |\n",
      "|    0   N/A  N/A           12584    C+G   ..._cw5n1h2txyewy\\SearchHost.exe      N/A      |\n",
      "|    0   N/A  N/A           12608    C+G   ...y\\StartMenuExperienceHost.exe      N/A      |\n",
      "|    0   N/A  N/A           14708    C+G   ....0.3485.81\\msedgewebview2.exe      N/A      |\n",
      "|    0   N/A  N/A           15772    C+G   ...8bbwe\\PhoneExperienceHost.exe      N/A      |\n",
      "|    0   N/A  N/A           18360    C+G   ...5n1h2txyewy\\TextInputHost.exe      N/A      |\n",
      "|    0   N/A  N/A           18892    C+G   ...yb3d8bbwe\\WindowsTerminal.exe      N/A      |\n",
      "|    0   N/A  N/A           18928    C+G   ...__8wekyb3d8bbwe\\XboxPcApp.exe      N/A      |\n",
      "|    0   N/A  N/A           19076    C+G   ...8aw4\\AcerPurifiedVoiceApp.exe      N/A      |\n",
      "|    0   N/A  N/A           19148    C+G   ...em32\\ApplicationFrameHost.exe      N/A      |\n",
      "|    0   N/A  N/A           19932    C+G   ...7efx6bt\\app\\PredatorSense.exe      N/A      |\n",
      "|    0   N/A  N/A           20820    C+G   ...0_x64__8j3eq9eme6ctt\\IGCC.exe      N/A      |\n",
      "|    0   N/A  N/A           21044    C+G   ...cord\\app-1.0.9209\\Discord.exe      N/A      |\n",
      "|    0   N/A  N/A           21132    C+G   ..._8wekyb3d8bbwe\\XboxPcTray.exe      N/A      |\n",
      "|    0   N/A  N/A           21328    C+G   ...xyewy\\ShellExperienceHost.exe      N/A      |\n",
      "|    0   N/A  N/A           22000    C+G   ...ntrolPanel\\SystemSettings.exe      N/A      |\n",
      "|    0   N/A  N/A           23752    C+G   ...x64__dt26b99r8h8gj\\RtkUWP.exe      N/A      |\n",
      "|    0   N/A  N/A           25320    C+G   ...a\\Roaming\\Spotify\\Spotify.exe      N/A      |\n",
      "|    0   N/A  N/A           26400    C+G   D:\\Microsoft VS Code\\Code.exe         N/A      |\n",
      "+-----------------------------------------------------------------------------------------+\n",
      "\n"
=======
      "Python version: 3.13.5 (tags/v3.13.5:6cb20a2, Jun 11 2025, 16:15:46) [MSC v.1943 64 bit (AMD64)]\n",
      "\n",
      "Checking for NVIDIA GPU...\n",
      "No NVIDIA GPU detected or nvidia-smi not found\n",
      "\n",
      "To use CUDA, you need:\n",
      "1. An NVIDIA GPU\n",
      "2. NVIDIA GPU drivers installed\n",
      "3. CUDA Toolkit installed\n",
      "\n",
      "Please install these if not already present.\n"
>>>>>>> bfd44bdfa90e5f1ccc9ef9a87d782edbb0fc0155
     ]
    }
   ],
   "source": [
    "import sys\n",
    "import subprocess\n",
    "\n",
    "def check_gpu():\n",
    "    try:\n",
    "        # Check if NVIDIA GPU is present\n",
    "        nvidia_smi = subprocess.check_output(\"nvidia-smi\", shell=True)\n",
    "        print(\"NVIDIA GPU detected:\")\n",
    "        print(nvidia_smi.decode())\n",
    "        return True\n",
    "    except:\n",
    "        print(\"No NVIDIA GPU detected or nvidia-smi not found\")\n",
    "        return False\n",
    "\n",
    "print(\"Python version:\", sys.version)\n",
    "print(\"\\nChecking for NVIDIA GPU...\")\n",
    "has_gpu = check_gpu()\n",
    "\n",
    "if not has_gpu:\n",
    "    print(\"\\nTo use CUDA, you need:\")\n",
    "    print(\"1. An NVIDIA GPU\")\n",
    "    print(\"2. NVIDIA GPU drivers installed\")\n",
    "    print(\"3. CUDA Toolkit installed\")\n",
    "    print(\"\\nPlease install these if not already present.\")"
   ]
  },
  {
   "cell_type": "code",
<<<<<<< HEAD
   "execution_count": 1,
=======
   "execution_count": 13,
>>>>>>> bfd44bdfa90e5f1ccc9ef9a87d782edbb0fc0155
   "id": "87cea9d5",
   "metadata": {},
   "outputs": [
    {
     "name": "stdout",
     "output_type": "stream",
     "text": [
      "CUDA is available: False\n"
     ]
    }
   ],
   "source": [
    "import torch\n",
    "print(\"CUDA is available:\", torch.cuda.is_available())\n",
    "if torch.cuda.is_available():\n",
    "    print(\"CUDA device:\", torch.cuda.get_device_name(0))\n",
    "    print(\"CUDA version:\", torch.version.cuda)"
   ]
  },
  {
   "cell_type": "markdown",
   "id": "486de100",
   "metadata": {},
   "source": [
    "# Klasifikasi Gambar Makanan Indonesia dengan EfficientNet-B3\n",
    "\n",
    "Notebook ini menggabungkan fungsionalitas pembacaan data dari `datareader.py` dengan kode pelatihan dari `train_3.py`. Kita akan menggunakan EfficientNet-B3 dengan transfer learning untuk mengklasifikasikan gambar makanan Indonesia.\n",
    "\n",
    "## Daftar isi\n",
    "1. Persiapan dan pembacaan data\n",
    "2. Penyiapan model dengan transfer learning\n",
    "3. Pelatihan dengan pelacakan progres\n",
    "4. Visualisasi dan evaluasi hasil\n",
    "\n",
    "## Latar Belakang\n",
    "EfficientNet-B3 adalah arsitektur jaringan saraf yang dioptimalkan untuk klasifikasi gambar. 300 Gecs menggunakan transfer learning dengan bobot pre-trained dari ImageNet untuk memanfaatkan fitur-fitur yang telah dipelajari sebelumnya."
   ]
  },
  {
   "cell_type": "markdown",
   "id": "b0b4621e",
   "metadata": {},
   "source": [
    "## 1. Import Library yang Dibutuhkan\n",
    "\n",
    "Pertama, kita akan mengimpor semua library yang diperlukan dan menyiapkan lingkungan. Kita menggunakan:\n",
    "- PyTorch: Framework deep learning utama\n",
    "- torchvision: Untuk model EfficientNet dan transformasi gambar\n",
    "- OpenCV (cv2): Untuk pemrosesan gambar\n",
    "- tqdm: Untuk pelacakan progres\n",
    "- scikit-learn: Untuk metrik evaluasi\n",
    "- matplotlib & seaborn: Untuk visualisasi\n",
    "- Library pendukung lainnya\n",
    "\n",
    "Kita juga akan mengatur seed acak untuk memastikan hasil yang dapat direproduksi."
   ]
  },
  {
   "cell_type": "code",
<<<<<<< HEAD
   "execution_count": 5,
=======
   "execution_count": 14,
>>>>>>> bfd44bdfa90e5f1ccc9ef9a87d782edbb0fc0155
   "id": "8b8abc43",
   "metadata": {},
   "outputs": [
    {
     "name": "stdout",
     "output_type": "stream",
     "text": [
      "Using CPU: cpu\n"
     ]
    }
   ],
   "source": [
    "import numpy as np\n",
    "import torch\n",
    "import torch.nn as nn\n",
    "from torch.utils.data import Dataset, DataLoader\n",
    "from torchvision.models import efficientnet_b3, EfficientNet_B3_Weights\n",
    "from torchvision.transforms import ToTensor, Normalize, Compose\n",
    "import torchvision.transforms as transforms  # Add this import\n",
    "import cv2\n",
    "import os\n",
    "import random\n",
    "import pandas as pd\n",
    "from tqdm import tqdm\n",
    "import matplotlib.pyplot as plt\n",
    "from sklearn.metrics import confusion_matrix, classification_report, roc_curve, auc\n",
    "import seaborn as sns\n",
    "from itertools import cycle\n",
    "\n",
    "# Set random seed for reproducibility\n",
    "RANDOM_SEED = 2025\n",
    "random.seed(RANDOM_SEED)\n",
    "np.random.seed(RANDOM_SEED)\n",
    "torch.manual_seed(RANDOM_SEED)\n",
    "\n",
    "# Utility function for device setup (previously in utils.py)\n",
    "def check_set_gpu(override=None):\n",
    "    if override == None:\n",
    "        if torch.cuda.is_available():\n",
    "            device = torch.device('cuda')\n",
    "            print(f\"Using GPU: {torch.cuda.get_device_name(0)}\")\n",
    "        elif torch.backends.mps.is_available():\n",
    "            device = torch.device('mps')\n",
    "            print(f\"Using MPS: {torch.backends.mps.is_available()}\")\n",
    "        else:\n",
    "            device = torch.device('cpu')\n",
    "            print(f\"Using CPU: {torch.device('cpu')}\")\n",
    "    else:\n",
    "        device = torch.device(override)\n",
    "    return device\n",
    "\n",
    "# Set device\n",
    "device = check_set_gpu()  # Using the integrated utility function"
   ]
  },
  {
   "cell_type": "markdown",
   "id": "13b16a09",
   "metadata": {},
   "source": [
    "## 2. Implementasi Dataset\n",
    "\n",
    "Kita akan mengimplementasikan kelas `MakananIndo` yang merupakan turunan dari `torch.utils.data.Dataset`. Kelas ini akan:\n",
    "\n",
    "- Memuat gambar dari direktori yang ditentukan\n",
    "- Menangani pembagian data training dan validasi\n",
    "- Menerapkan transformasi gambar yang diperlukan\n",
    "- Normalisasi menggunakan statistik ImageNet\n",
    "- Mengembalikan pasangan gambar-label untuk pelatihan\n",
    "\n",
    "### Fitur Penting:\n",
    "1. **Pembagian Data**: 80% training, 20% validasi\n",
    "2. **Transformasi Default**: \n",
    "   - Konversi ke tensor PyTorch\n",
    "   - Normalisasi menggunakan mean dan std ImageNet\n",
    "3. **Format Gambar**: \n",
    "   - Ukuran diseragamkan ke 300x300 pixel\n",
    "   - Konversi warna dari BGR ke RGB\n",
    "   - Normalisasi nilai pixel ke rentang [0,1]"
   ]
  },
  {
   "cell_type": "code",
<<<<<<< HEAD
   "execution_count": 6,
=======
   "execution_count": 15,
>>>>>>> bfd44bdfa90e5f1ccc9ef9a87d782edbb0fc0155
   "id": "7cdffd04",
   "metadata": {},
   "outputs": [],
   "source": [
    "class MakananIndo(Dataset):\n",
    "    # ImageNet normalization values\n",
    "    IMAGENET_MEAN = [0.485, 0.456, 0.406]\n",
    "    IMAGENET_STD = [0.229, 0.224, 0.225]\n",
    "    \n",
    "    def __init__(self,\n",
    "                 data_dir='IF25-4041-dataset/train',\n",
    "                 img_size=(300, 300),\n",
    "                 transform=None,\n",
    "                 split='train'\n",
    "                 ):\n",
    "        \n",
    "        self.data_dir = data_dir\n",
    "        self.img_size = img_size\n",
    "        self.split = split\n",
    "\n",
    "        # List all image files\n",
    "        self.image_files = [f for f in os.listdir(data_dir) if f.endswith('.jpg') or f.endswith('.png')]\n",
    "        self.image_files.sort()\n",
    "        \n",
    "        # Load labels from CSV\n",
    "        csv_path = os.path.join(os.path.dirname(data_dir), 'train.csv')\n",
    "        df = pd.read_csv(csv_path)\n",
    "        \n",
    "        # Create label dictionary only for images that exist in our directory\n",
    "        valid_images = set(self.image_files)\n",
    "        df = df[df['filename'].isin(valid_images)]\n",
    "        self.label_dict = dict(zip(df['filename'], df['label']))\n",
    "        \n",
    "        # Filter image files to only those that have labels\n",
    "        self.image_files = [f for f in self.image_files if f in self.label_dict]\n",
    "        self.labels = [self.label_dict[f] for f in self.image_files]\n",
    "        \n",
    "        # Create train/val split\n",
    "        all_data = list(zip(self.image_files, self.labels))\n",
    "        total_len = len(all_data)\n",
    "        train_len = int(0.8 * total_len)\n",
    "        \n",
    "        indices = list(range(total_len))\n",
    "        random.shuffle(indices)\n",
    "        \n",
    "        if split == 'train':\n",
    "            self.data = [all_data[i] for i in indices[:train_len]]\n",
    "            # Data augmentation for training\n",
    "            self.transform = transforms.Compose([\n",
    "                transforms.ToPILImage(),\n",
    "                transforms.RandomHorizontalFlip(p=0.5),\n",
    "                transforms.RandomRotation(15),\n",
    "                transforms.ColorJitter(brightness=0.2, contrast=0.2),\n",
    "                transforms.RandomResizedCrop(size=img_size, scale=(0.8, 1.0)),\n",
    "                transforms.ToTensor(),\n",
    "                transforms.Normalize(mean=self.IMAGENET_MEAN, std=self.IMAGENET_STD)\n",
    "            ]) if transform is None else transform\n",
    "        elif split == 'val':\n",
    "            self.data = [all_data[i] for i in indices[train_len:]]\n",
    "            # Simple normalization for validation\n",
    "            self.transform = transforms.Compose([\n",
    "                transforms.ToPILImage(),\n",
    "                transforms.Resize(img_size),\n",
    "                transforms.ToTensor(),\n",
    "                transforms.Normalize(mean=self.IMAGENET_MEAN, std=self.IMAGENET_STD)\n",
    "            ]) if transform is None else transform\n",
    "        else:\n",
    "            raise ValueError(\"Split must be 'train' or 'val'\")\n",
    "\n",
    "    def __len__(self):\n",
    "        return len(self.data)\n",
    "\n",
    "    def __getitem__(self, idx):\n",
    "        img_path = os.path.join(self.data_dir, self.data[idx][0])\n",
    "        image = cv2.imread(img_path)\n",
    "        image = cv2.cvtColor(image, cv2.COLOR_BGR2RGB)\n",
    "        \n",
    "        if self.transform:\n",
    "            image = self.transform(image)\n",
    "        \n",
    "        label = self.data[idx][1]\n",
    "        \n",
    "        return image, label, img_path\n",
    "\n",
    "# Create helper function for label encoding\n",
    "def create_label_encoder(dataset):\n",
    "    \"\"\"Create a mapping from string labels to numeric indices\"\"\"\n",
    "    all_labels = []\n",
    "    for i in range(len(dataset)):\n",
    "        _, label, _ = dataset[i]\n",
    "        all_labels.append(label)\n",
    "    \n",
    "    unique_labels = sorted(list(set(all_labels)))\n",
    "    label_to_idx = {label: idx for idx, label in enumerate(unique_labels)}\n",
    "    idx_to_label = {idx: label for idx, label in enumerate(unique_labels)}\n",
    "    \n",
    "    return label_to_idx, idx_to_label, unique_labels"
   ]
  },
  {
   "cell_type": "markdown",
   "id": "494fe8e3",
   "metadata": {},
   "source": [
    "## 3. Fungsi-fungsi Pelatihan\n",
    "\n",
    "\n",
    "\n",
    "### Fungsi train_one_epoch:\n",
    "- Melatih model untuk satu epoch\n",
    "- Menghitung loss dan akurasi training\n",
    "- Melakukan optimisasi parameter model\n",
    "- Menampilkan progress bar dengan metrik real-time\n",
    "\n",
    "### Fungsi validate:\n",
    "- Mengevaluasi model pada data validasi\n",
    "- Menghitung loss dan akurasi validasi\n",
    "- Tidak melakukan backpropagation\n",
    "- Menampilkan progress bar dengan metrik\n",
    "\n",
    "### Fitur Umum:\n",
    "- Konversi label string ke indeks numerik\n",
    "- Penggunaan tqdm untuk visualisasi progres\n",
    "- Penanganan batch processing yang efisien\n",
    "- Perhitungan metrik secara real-time"
   ]
  },
  {
   "cell_type": "code",
<<<<<<< HEAD
   "execution_count": 7,
=======
   "execution_count": 16,
>>>>>>> bfd44bdfa90e5f1ccc9ef9a87d782edbb0fc0155
   "id": "2041dd03",
   "metadata": {},
   "outputs": [],
   "source": [
    "def train_one_epoch(model, dataloader, criterion, optimizer, device, label_to_idx):\n",
    "    model.train()\n",
    "    total_loss = 0\n",
    "    correct = 0\n",
    "    total = 0\n",
    "    \n",
    "    pbar = tqdm(dataloader, desc='Training')\n",
    "    for batch_idx, (inputs, labels_tuple, _) in enumerate(pbar):\n",
    "        inputs = inputs.to(device)\n",
    "        \n",
    "        # Convert string labels to numeric indices\n",
    "        if isinstance(labels_tuple, (tuple, list)):\n",
    "            if isinstance(labels_tuple[0], str):\n",
    "                label_indices = [label_to_idx[label] for label in labels_tuple]\n",
    "            else:\n",
    "                label_indices = labels_tuple\n",
    "            targets = torch.tensor(label_indices, dtype=torch.long).to(device)\n",
    "        else:\n",
    "            targets = torch.tensor(labels_tuple, dtype=torch.long).to(device)\n",
    "        \n",
    "        optimizer.zero_grad()\n",
    "        outputs = model(inputs)\n",
    "        loss = criterion(outputs, targets)\n",
    "        \n",
    "        loss.backward()\n",
    "        optimizer.step()\n",
    "        \n",
    "        total_loss += loss.item()\n",
    "        _, predicted = outputs.max(1)\n",
    "        total += targets.size(0)\n",
    "        correct += predicted.eq(targets).sum().item()\n",
    "        \n",
    "        pbar.set_postfix({\n",
    "            'loss': total_loss/(batch_idx+1),\n",
    "            'acc': 100.*correct/total\n",
    "        })\n",
    "    \n",
    "    return total_loss/len(dataloader), 100.*correct/total\n",
    "\n",
    "def validate(model, dataloader, criterion, device, label_to_idx):\n",
    "    model.eval()\n",
    "    total_loss = 0\n",
    "    correct = 0\n",
    "    total = 0\n",
    "    \n",
    "    with torch.no_grad():\n",
    "        pbar = tqdm(dataloader, desc='Validation')\n",
    "        for batch_idx, (inputs, labels_tuple, _) in enumerate(pbar):\n",
    "            inputs = inputs.to(device)\n",
    "            \n",
    "            # Convert string labels to numeric indices\n",
    "            if isinstance(labels_tuple, (tuple, list)):\n",
    "                if isinstance(labels_tuple[0], str):\n",
    "                    label_indices = [label_to_idx[label] for label in labels_tuple]\n",
    "                else:\n",
    "                    label_indices = labels_tuple\n",
    "                targets = torch.tensor(label_indices, dtype=torch.long).to(device)\n",
    "            else:\n",
    "                targets = torch.tensor(labels_tuple, dtype=torch.long).to(device)\n",
    "            \n",
    "            outputs = model(inputs)\n",
    "            loss = criterion(outputs, targets)\n",
    "            \n",
    "            total_loss += loss.item()\n",
    "            _, predicted = outputs.max(1)\n",
    "            total += targets.size(0)\n",
    "            correct += predicted.eq(targets).sum().item()\n",
    "            \n",
    "            pbar.set_postfix({\n",
    "                'loss': total_loss/(batch_idx+1),\n",
    "                'acc': 100.*correct/total\n",
    "            })\n",
    "    \n",
    "    return total_loss/len(dataloader), 100.*correct/total"
   ]
  },
  {
   "cell_type": "markdown",
   "id": "9bf5f15c",
   "metadata": {},
   "source": [
    "## 4. Persiapan Dataset dan DataLoader\n",
    "\n",
    "\n",
    "\n",
    "1. **Menyiapkan Hyperparameter**:\n",
    "   - Jumlah epoch: 30\n",
    "   - Ukuran batch: 32\n",
    "   - Learning rate: 0.001\n",
    "   - Ukuran gambar: 300x300\n",
    "\n",
    "2. **Membuat Dataset**:\n",
    "   - Dataset training dengan augmentasi\n",
    "   - Dataset validasi untuk evaluasi\n",
    "\n",
    "3. **Pengkodean Label**:\n",
    "   - Konversi label string ke indeks numerik\n",
    "   - Membuat mapping dua arah (indeks ↔ label)\n",
    "\n",
    "4. **Konfigurasi DataLoader**:\n",
    "   - Mengatur jumlah worker untuk loading parallel\n",
    "   - Mengaktifkan shuffling untuk data training\n",
    "   - Mengoptimalkan memory dengan pin_memory"
   ]
  },
  {
   "cell_type": "code",
<<<<<<< HEAD
   "execution_count": 8,
=======
   "execution_count": 17,
>>>>>>> bfd44bdfa90e5f1ccc9ef9a87d782edbb0fc0155
   "id": "822130ed",
   "metadata": {},
   "outputs": [
    {
     "name": "stdout",
     "output_type": "stream",
     "text": [
      "Loading datasets...\n",
      "Train dataset size: 866\n",
      "Validation dataset size: 217\n",
      "\n",
      "Creating label encoder...\n"
     ]
    },
    {
     "name": "stdout",
     "output_type": "stream",
     "text": [
      "Number of classes: 5\n",
      "Classes: ['bakso', 'gado_gado', 'nasi_goreng', 'rendang', 'soto_ayam']\n",
      "Label to index mapping: {'bakso': 0, 'gado_gado': 1, 'nasi_goreng': 2, 'rendang': 3, 'soto_ayam': 4}\n"
     ]
    }
   ],
   "source": [
    "# Hyperparameters\n",
<<<<<<< HEAD
    "num_epochs = 32\n",
    "batch_size = 16\n",
    "learning_rate = 0.001\n",
=======
    "num_epochs = 20  # Reduced from 32\n",
    "batch_size = 32\n",
    "learning_rate = 0.001  # Reduced from 0.01\n",
    "weight_decay = 0.01  # Added weight decay\n",
>>>>>>> bfd44bdfa90e5f1ccc9ef9a87d782edbb0fc0155
    "img_size = (300, 300)  # EfficientNet-B3 input size\n",
    "\n",
    "# Create datasets\n",
    "print(\"Loading datasets...\")\n",
    "train_dataset = MakananIndo(\n",
    "    data_dir='IF25-4041-dataset/train',\n",
    "    img_size=img_size,\n",
    "    split='train'\n",
    ")\n",
    "\n",
    "val_dataset = MakananIndo(\n",
    "    data_dir='IF25-4041-dataset/train',\n",
    "    img_size=img_size,\n",
    "    split='val'\n",
    ")\n",
    "\n",
    "print(f\"Train dataset size: {len(train_dataset)}\")\n",
    "print(f\"Validation dataset size: {len(val_dataset)}\")\n",
    "\n",
    "# Create label encoder\n",
    "print(\"\\nCreating label encoder...\")\n",
    "label_to_idx, idx_to_label, unique_labels = create_label_encoder(train_dataset)\n",
    "num_classes = len(unique_labels)\n",
    "\n",
    "print(f\"Number of classes: {num_classes}\")\n",
    "print(f\"Classes: {unique_labels}\")\n",
    "print(f\"Label to index mapping: {label_to_idx}\")\n",
    "\n",
    "# Create data loaders with proper settings\n",
    "cpu_count = os.cpu_count()\n",
    "nworkers = cpu_count - 2 if cpu_count > 2 else 0  # Leave some CPUs free\n",
    "\n",
    "train_loader = DataLoader(\n",
    "    train_dataset,\n",
    "    batch_size=batch_size,\n",
    "    shuffle=True,\n",
    "    num_workers=nworkers,\n",
    "    pin_memory=True\n",
    ")\n",
    "\n",
    "val_loader = DataLoader(\n",
    "    val_dataset,\n",
    "    batch_size=batch_size,\n",
    "    shuffle=False,\n",
    "    num_workers=nworkers,\n",
    "    pin_memory=True\n",
    ")"
   ]
  },
  {
   "cell_type": "markdown",
   "id": "bb531181",
   "metadata": {},
   "source": [
    "## Debug Pemuatan Dataset\n",
    "\n",
    "Mari kita uji pemuatan dataset dengan satu worker untuk mengisolasi masalah potensial:\n",
    "- Memuat beberapa sampel dari dataset\n",
    "- Memeriksa bentuk tensor dan label\n",
    "- Memastikan path gambar valid"
   ]
  },
  {
   "cell_type": "code",
<<<<<<< HEAD
   "execution_count": 9,
=======
   "execution_count": 18,
>>>>>>> bfd44bdfa90e5f1ccc9ef9a87d782edbb0fc0155
   "id": "c5b61520",
   "metadata": {},
   "outputs": [
    {
     "name": "stdout",
     "output_type": "stream",
     "text": [
      "Testing dataset loading...\n",
      "Successfully loaded image 1:\n",
      "- Shape: torch.Size([3, 300, 300])\n",
      "- Label: gado_gado\n",
      "- Path: IF25-4041-dataset/train\\0088.jpg\n",
      "--------------------------------------------------\n",
      "Successfully loaded image 2:\n",
      "- Shape: torch.Size([3, 300, 300])\n",
      "- Label: bakso\n",
      "- Path: IF25-4041-dataset/train\\0203.jpg\n",
      "--------------------------------------------------\n",
      "Successfully loaded image 3:\n",
      "- Shape: torch.Size([3, 300, 300])\n",
      "- Label: bakso\n",
      "- Path: IF25-4041-dataset/train\\0629.jpg\n",
      "--------------------------------------------------\n",
      "Successfully loaded image 4:\n",
      "- Shape: torch.Size([3, 300, 300])\n",
      "- Label: nasi_goreng\n",
      "- Path: IF25-4041-dataset/train\\0693.jpg\n",
      "--------------------------------------------------\n",
      "Successfully loaded image 5:\n",
      "- Shape: torch.Size([3, 300, 300])\n",
      "- Label: nasi_goreng\n",
      "- Path: IF25-4041-dataset/train\\0889.jpg\n",
      "--------------------------------------------------\n",
      "Successfully loaded image 3:\n",
      "- Shape: torch.Size([3, 300, 300])\n",
      "- Label: bakso\n",
      "- Path: IF25-4041-dataset/train\\0629.jpg\n",
      "--------------------------------------------------\n",
      "Successfully loaded image 4:\n",
      "- Shape: torch.Size([3, 300, 300])\n",
      "- Label: nasi_goreng\n",
      "- Path: IF25-4041-dataset/train\\0693.jpg\n",
      "--------------------------------------------------\n",
      "Successfully loaded image 5:\n",
      "- Shape: torch.Size([3, 300, 300])\n",
      "- Label: nasi_goreng\n",
      "- Path: IF25-4041-dataset/train\\0889.jpg\n",
      "--------------------------------------------------\n"
     ]
    }
   ],
   "source": [
    "# Test loading a few samples from the dataset\n",
    "print(\"Testing dataset loading...\")\n",
    "try:\n",
    "    for i in range(min(5, len(train_dataset))):\n",
    "        image, label, path = train_dataset[i]\n",
    "        print(f\"Successfully loaded image {i+1}:\")\n",
    "        print(f\"- Shape: {image.shape}\")\n",
    "        print(f\"- Label: {label}\")\n",
    "        print(f\"- Path: {path}\")\n",
    "        print(\"-\" * 50)\n",
    "except Exception as e:\n",
    "    print(f\"Error loading sample {i}: {str(e)}\")\n",
    "    print(f\"Full error: {e.__class__.__name__}: {str(e)}\")\n",
    "    raise"
   ]
  },
  {
   "cell_type": "code",
<<<<<<< HEAD
   "execution_count": 10,
=======
   "execution_count": 19,
>>>>>>> bfd44bdfa90e5f1ccc9ef9a87d782edbb0fc0155
   "id": "b9945961",
   "metadata": {},
   "outputs": [
    {
     "name": "stdout",
     "output_type": "stream",
     "text": [
      "Creating data loaders with conservative settings...\n",
      "\n",
      "Testing batch loading...\n",
      "Successfully loaded a batch:\n",
<<<<<<< HEAD
      "- Batch image shape: torch.Size([16, 3, 300, 300])\n",
      "- Batch labels: ('bakso', 'nasi_goreng', 'gado_gado', 'nasi_goreng', 'bakso', 'soto_ayam', 'nasi_goreng', 'soto_ayam', 'gado_gado', 'bakso', 'rendang', 'rendang', 'bakso', 'soto_ayam', 'bakso', 'rendang')\n",
=======
      "- Batch image shape: torch.Size([32, 3, 300, 300])\n",
      "- Batch labels: ('rendang', 'gado_gado', 'gado_gado', 'rendang', 'soto_ayam', 'rendang', 'rendang', 'rendang', 'rendang', 'nasi_goreng', 'bakso', 'bakso', 'soto_ayam', 'soto_ayam', 'gado_gado', 'nasi_goreng', 'gado_gado', 'nasi_goreng', 'nasi_goreng', 'bakso', 'bakso', 'rendang', 'rendang', 'soto_ayam', 'bakso', 'rendang', 'nasi_goreng', 'soto_ayam', 'bakso', 'nasi_goreng', 'gado_gado', 'rendang')\n",
      "\n",
      "DataLoader configuration successful!\n",
      "Successfully loaded a batch:\n",
      "- Batch image shape: torch.Size([32, 3, 300, 300])\n",
      "- Batch labels: ('rendang', 'gado_gado', 'gado_gado', 'rendang', 'soto_ayam', 'rendang', 'rendang', 'rendang', 'rendang', 'nasi_goreng', 'bakso', 'bakso', 'soto_ayam', 'soto_ayam', 'gado_gado', 'nasi_goreng', 'gado_gado', 'nasi_goreng', 'nasi_goreng', 'bakso', 'bakso', 'rendang', 'rendang', 'soto_ayam', 'bakso', 'rendang', 'nasi_goreng', 'soto_ayam', 'bakso', 'nasi_goreng', 'gado_gado', 'rendang')\n",
>>>>>>> bfd44bdfa90e5f1ccc9ef9a87d782edbb0fc0155
      "\n",
      "DataLoader configuration successful!\n"
     ]
    }
   ],
   "source": [
    "# Create data loaders with more conservative settings\n",
    "print(\"Creating data loaders with conservative settings...\")\n",
    "\n",
    "# Start with minimal workers and no pin_memory\n",
    "train_loader = DataLoader(\n",
    "    train_dataset,\n",
    "    batch_size=batch_size,\n",
    "    shuffle=True,\n",
    "    num_workers=0,  # Start with single-process loading\n",
    "    pin_memory=False\n",
    ")\n",
    "\n",
    "val_loader = DataLoader(\n",
    "    val_dataset,\n",
    "    batch_size=batch_size,\n",
    "    shuffle=False,\n",
    "    num_workers=0,  # Start with single-process loading\n",
    "    pin_memory=False\n",
    ")\n",
    "\n",
    "# Test batch loading\n",
    "print(\"\\nTesting batch loading...\")\n",
    "try:\n",
    "    # Get one batch from the train loader\n",
    "    sample_batch = next(iter(train_loader))\n",
    "    images, labels, paths = sample_batch\n",
    "    print(f\"Successfully loaded a batch:\")\n",
    "    print(f\"- Batch image shape: {images.shape}\")\n",
    "    print(f\"- Batch labels: {labels}\")\n",
    "    print(\"\\nDataLoader configuration successful!\")\n",
    "except Exception as e:\n",
    "    print(f\"Error loading batch: {str(e)}\")\n",
    "    print(f\"Full error: {e.__class__.__name__}: {str(e)}\")\n",
    "    raise"
   ]
  },
  {
   "cell_type": "markdown",
   "id": "2232a92c",
   "metadata": {},
   "source": [
    "## 5. Inisialisasi dan Pelatihan Model\n",
    "\n",
    "Setelah memastikan dataset berfungsi dengan baik, kita akan:\n",
    "1. Memuat model EfficientNet-B3 pre-trained\n",
    "2. Memodifikasi layer classifier\n",
    "3. Memulai pelatihan dengan early stopping"
   ]
  },
  {
   "cell_type": "code",
<<<<<<< HEAD
   "execution_count": 11,
=======
   "execution_count": 21,
>>>>>>> bfd44bdfa90e5f1ccc9ef9a87d782edbb0fc0155
   "id": "f474f2ed",
   "metadata": {},
   "outputs": [
    {
     "name": "stdout",
     "output_type": "stream",
     "text": [
      "\n",
      "Initializing EfficientNet-B3 model...\n",
      "Replaced classifier with new layers for 5 classes\n",
      "\n",
      "Training setup:\n",
      "- Device: cpu\n",
<<<<<<< HEAD
      "- Batch size: 16\n",
      "- Learning rate: 0.001\n",
      "- Number of epochs: 32\n",
=======
      "- Batch size: 32\n",
      "- Learning rate: 0.001\n",
      "- Weight decay: 0.01\n",
      "- Number of epochs: 20\n",
      "- Image size: (300, 300)\n",
      "--------------------------------------------------\n",
      "Replaced classifier with new layers for 5 classes\n",
      "\n",
      "Training setup:\n",
      "- Device: cpu\n",
      "- Batch size: 32\n",
      "- Learning rate: 0.001\n",
      "- Weight decay: 0.01\n",
      "- Number of epochs: 20\n",
>>>>>>> bfd44bdfa90e5f1ccc9ef9a87d782edbb0fc0155
      "- Image size: (300, 300)\n",
      "--------------------------------------------------\n"
     ]
    }
   ],
   "source": [
    "# Initialize model\n",
    "print(\"\\nInitializing EfficientNet-B3 model...\")\n",
    "weights = EfficientNet_B3_Weights.IMAGENET1K_V1\n",
    "model = efficientnet_b3(weights=weights)\n",
    "\n",
    "# Freeze backbone initially\n",
    "for param in model.parameters():\n",
    "    param.requires_grad = False\n",
    "\n",
    "# Replace classifier with improved architecture\n",
    "model.classifier = nn.Sequential(\n",
    "    nn.Dropout(p=0.5, inplace=True),\n",
    "    nn.Linear(1536, 1024),\n",
    "    nn.ReLU(),\n",
    "    nn.BatchNorm1d(1024),  # Added BatchNorm\n",
    "    nn.Dropout(p=0.5),     # Increased dropout\n",
    "    nn.Linear(1024, num_classes)\n",
    ")\n",
    "print(f\"Replaced classifier with new layers for {num_classes} classes\")\n",
    "\n",
    "# Move model to device\n",
    "model = model.to(device)\n",
    "\n",
    "# Setup training with improved optimizer and scheduler\n",
    "criterion = nn.CrossEntropyLoss()\n",
    "optimizer = torch.optim.AdamW(\n",
    "    model.classifier.parameters(), \n",
    "    lr=learning_rate,\n",
    "    weight_decay=weight_decay  # L2 regularization\n",
    ")\n",
    "\n",
    "# Use CosineAnnealingLR scheduler instead of ReduceLROnPlateau\n",
    "scheduler = torch.optim.lr_scheduler.CosineAnnealingLR(\n",
    "    optimizer,\n",
    "    T_max=num_epochs,\n",
    "    eta_min=learning_rate * 0.01  # Minimum learning rate will be 1% of initial lr\n",
    ")\n",
    "\n",
    "print(f\"\\nTraining setup:\")\n",
    "print(f\"- Device: {device}\")\n",
    "print(f\"- Batch size: {batch_size}\")\n",
    "print(f\"- Learning rate: {learning_rate}\")\n",
    "print(f\"- Weight decay: {weight_decay}\")\n",
    "print(f\"- Number of epochs: {num_epochs}\")\n",
    "print(f\"- Image size: {img_size}\")\n",
    "print(\"-\" * 50)"
   ]
  },
  {
   "cell_type": "code",
<<<<<<< HEAD
   "execution_count": 12,
=======
   "execution_count": 22,
>>>>>>> bfd44bdfa90e5f1ccc9ef9a87d782edbb0fc0155
   "id": "6260e959",
   "metadata": {},
   "outputs": [
    {
     "name": "stdout",
     "output_type": "stream",
     "text": [
      "Starting training loop...\n",
      "\n",
<<<<<<< HEAD
      "Epoch: 1/32\n"
=======
      "Phase 1: Training classifier only...\n",
      "\n",
      "Epoch: 1/5 (Phase 1)\n"
>>>>>>> bfd44bdfa90e5f1ccc9ef9a87d782edbb0fc0155
     ]
    },
    {
     "name": "stderr",
     "output_type": "stream",
     "text": [
<<<<<<< HEAD
      "Training:  42%|████▏     | 23/55 [00:20<00:28,  1.12it/s, loss=1.34, acc=48.4]"
=======
      "Training: 100%|██████████| 28/28 [04:23<00:00,  9.41s/it, loss=0.888, acc=68.5]\n",
      "Training: 100%|██████████| 28/28 [04:23<00:00,  9.41s/it, loss=0.888, acc=68.5]\n",
      "Validation: 100%|██████████| 7/7 [00:53<00:00,  7.71s/it, loss=0.377, acc=91.7]\n",
      "\n"
>>>>>>> bfd44bdfa90e5f1ccc9ef9a87d782edbb0fc0155
     ]
    },
    {
     "name": "stdout",
     "output_type": "stream",
     "text": [
<<<<<<< HEAD
      "\n",
      "Training interrupted by user\n",
      "\n",
      "Final best validation accuracy: 0\n"
=======
      "New best model saved! Validation accuracy: 91.71%\n",
      "Train Loss: 0.8875 | Train Acc: 68.48%\n",
      "Val Loss: 0.3771 | Val Acc: 91.71%\n",
      "Learning rate: 0.000994\n",
      "\n",
      "Epoch: 2/5 (Phase 1)\n"
     ]
    },
    {
     "name": "stderr",
     "output_type": "stream",
     "text": [
      "Training: 100%|██████████| 28/28 [04:08<00:00,  8.88s/it, loss=0.43, acc=82.8] \n",
      "Training: 100%|██████████| 28/28 [04:08<00:00,  8.88s/it, loss=0.43, acc=82.8] \n",
      "Validation: 100%|██████████| 7/7 [00:41<00:00,  5.89s/it, loss=0.167, acc=95.9]\n",
      "\n"
     ]
    },
    {
     "name": "stdout",
     "output_type": "stream",
     "text": [
      "New best model saved! Validation accuracy: 95.85%\n",
      "Train Loss: 0.4299 | Train Acc: 82.79%\n",
      "Val Loss: 0.1668 | Val Acc: 95.85%\n",
      "Learning rate: 0.000976\n",
      "\n",
      "Epoch: 3/5 (Phase 1)\n"
     ]
    },
    {
     "name": "stderr",
     "output_type": "stream",
     "text": [
      "Training: 100%|██████████| 28/28 [04:13<00:00,  9.05s/it, loss=0.365, acc=87.4]\n",
      "Training: 100%|██████████| 28/28 [04:13<00:00,  9.05s/it, loss=0.365, acc=87.4]\n",
      "Validation: 100%|██████████| 7/7 [00:42<00:00,  6.08s/it, loss=0.158, acc=96.3]\n",
      "\n"
     ]
    },
    {
     "name": "stdout",
     "output_type": "stream",
     "text": [
      "New best model saved! Validation accuracy: 96.31%\n",
      "Train Loss: 0.3645 | Train Acc: 87.41%\n",
      "Val Loss: 0.1578 | Val Acc: 96.31%\n",
      "Learning rate: 0.000946\n",
      "\n",
      "Epoch: 4/5 (Phase 1)\n"
     ]
    },
    {
     "name": "stderr",
     "output_type": "stream",
     "text": [
      "Training: 100%|██████████| 28/28 [04:18<00:00,  9.24s/it, loss=0.33, acc=89.7] \n",
      "Training: 100%|██████████| 28/28 [04:18<00:00,  9.24s/it, loss=0.33, acc=89.7] \n",
      "Validation: 100%|██████████| 7/7 [00:42<00:00,  6.04s/it, loss=0.121, acc=96.3]\n",
      "Validation: 100%|██████████| 7/7 [00:42<00:00,  6.04s/it, loss=0.121, acc=96.3]\n"
     ]
    },
    {
     "name": "stdout",
     "output_type": "stream",
     "text": [
      "Train Loss: 0.3300 | Train Acc: 89.72%\n",
      "Val Loss: 0.1212 | Val Acc: 96.31%\n",
      "Learning rate: 0.000905\n",
      "\n",
      "Epoch: 5/5 (Phase 1)\n"
     ]
    },
    {
     "name": "stderr",
     "output_type": "stream",
     "text": [
      "Training: 100%|██████████| 28/28 [04:17<00:00,  9.19s/it, loss=0.29, acc=89.4] \n",
      "Training: 100%|██████████| 28/28 [04:17<00:00,  9.19s/it, loss=0.29, acc=89.4] \n",
      "Validation: 100%|██████████| 7/7 [00:42<00:00,  6.05s/it, loss=0.1, acc=97.2]   \n",
      "\n"
     ]
    },
    {
     "name": "stdout",
     "output_type": "stream",
     "text": [
      "New best model saved! Validation accuracy: 97.24%\n",
      "Train Loss: 0.2901 | Train Acc: 89.38%\n",
      "Val Loss: 0.1003 | Val Acc: 97.24%\n",
      "Learning rate: 0.000855\n",
      "\n",
      "Phase 2: Progressive unfreezing...\n",
      "\n",
      "Epoch: 1/15 (Phase 2)\n"
     ]
    },
    {
     "name": "stderr",
     "output_type": "stream",
     "text": [
      "Training: 100%|██████████| 28/28 [05:31<00:00, 11.85s/it, loss=0.214, acc=92.1]\n",
      "Training: 100%|██████████| 28/28 [05:31<00:00, 11.85s/it, loss=0.214, acc=92.1]\n",
      "Validation: 100%|██████████| 7/7 [00:42<00:00,  6.07s/it, loss=0.0559, acc=98.6]\n",
      "\n"
     ]
    },
    {
     "name": "stdout",
     "output_type": "stream",
     "text": [
      "New best model saved! Validation accuracy: 98.62%\n",
      "Train Loss: 0.2142 | Train Acc: 92.15%\n",
      "Val Loss: 0.0559 | Val Acc: 98.62%\n",
      "Learning rate: 0.000099\n",
      "--------------------------------------------------\n",
      "\n",
      "Epoch: 2/15 (Phase 2)\n"
     ]
    },
    {
     "name": "stderr",
     "output_type": "stream",
     "text": [
      "Training: 100%|██████████| 28/28 [05:28<00:00, 11.73s/it, loss=0.185, acc=94.2]\n",
      "Training: 100%|██████████| 28/28 [05:28<00:00, 11.73s/it, loss=0.185, acc=94.2]\n",
      "Validation: 100%|██████████| 7/7 [00:41<00:00,  6.00s/it, loss=0.0508, acc=98.6]\n",
      "Validation: 100%|██████████| 7/7 [00:41<00:00,  6.00s/it, loss=0.0508, acc=98.6]\n"
     ]
    },
    {
     "name": "stdout",
     "output_type": "stream",
     "text": [
      "No improvement for 1 epochs\n",
      "Train Loss: 0.1846 | Train Acc: 94.23%\n",
      "Val Loss: 0.0508 | Val Acc: 98.62%\n",
      "Learning rate: 0.000096\n",
      "--------------------------------------------------\n",
      "\n",
      "Epoch: 3/15 (Phase 2)\n"
     ]
    },
    {
     "name": "stderr",
     "output_type": "stream",
     "text": [
      "Training: 100%|██████████| 28/28 [05:51<00:00, 12.54s/it, loss=0.134, acc=95.7]\n",
      "Training: 100%|██████████| 28/28 [05:51<00:00, 12.54s/it, loss=0.134, acc=95.7]\n",
      "Validation: 100%|██████████| 7/7 [00:43<00:00,  6.15s/it, loss=0.0511, acc=98.6]\n",
      "Validation: 100%|██████████| 7/7 [00:43<00:00,  6.15s/it, loss=0.0511, acc=98.6]\n"
     ]
    },
    {
     "name": "stdout",
     "output_type": "stream",
     "text": [
      "No improvement for 2 epochs\n",
      "Train Loss: 0.1336 | Train Acc: 95.73%\n",
      "Val Loss: 0.0511 | Val Acc: 98.62%\n",
      "Learning rate: 0.000091\n",
      "--------------------------------------------------\n",
      "\n",
      "Epoch: 4/15 (Phase 2)\n"
     ]
    },
    {
     "name": "stderr",
     "output_type": "stream",
     "text": [
      "Training: 100%|██████████| 28/28 [05:45<00:00, 12.35s/it, loss=0.107, acc=96.8] \n",
      "Training: 100%|██████████| 28/28 [05:45<00:00, 12.35s/it, loss=0.107, acc=96.8]\n",
      "Validation: 100%|██████████| 7/7 [00:44<00:00,  6.38s/it, loss=0.0471, acc=99.1]\n",
      "\n"
     ]
    },
    {
     "name": "stdout",
     "output_type": "stream",
     "text": [
      "New best model saved! Validation accuracy: 99.08%\n",
      "Train Loss: 0.1069 | Train Acc: 96.77%\n",
      "Val Loss: 0.0471 | Val Acc: 99.08%\n",
      "Learning rate: 0.000084\n",
      "--------------------------------------------------\n",
      "\n",
      "Epoch: 5/15 (Phase 2)\n"
     ]
    },
    {
     "name": "stderr",
     "output_type": "stream",
     "text": [
      "Training: 100%|██████████| 28/28 [05:40<00:00, 12.17s/it, loss=0.0643, acc=98]  \n",
      "Training: 100%|██████████| 28/28 [05:40<00:00, 12.17s/it, loss=0.0643, acc=98]\n",
      "Validation: 100%|██████████| 7/7 [00:41<00:00,  5.93s/it, loss=0.0374, acc=99.5]\n",
      "\n"
     ]
    },
    {
     "name": "stdout",
     "output_type": "stream",
     "text": [
      "New best model saved! Validation accuracy: 99.54%\n",
      "Train Loss: 0.0643 | Train Acc: 98.04%\n",
      "Val Loss: 0.0374 | Val Acc: 99.54%\n",
      "Learning rate: 0.000075\n",
      "--------------------------------------------------\n",
      "\n",
      "Epoch: 6/15 (Phase 2)\n"
     ]
    },
    {
     "name": "stderr",
     "output_type": "stream",
     "text": [
      "Training: 100%|██████████| 28/28 [05:33<00:00, 11.93s/it, loss=0.0678, acc=98.4]\n",
      "Training: 100%|██████████| 28/28 [05:33<00:00, 11.93s/it, loss=0.0678, acc=98.4]\n",
      "Validation: 100%|██████████| 7/7 [00:42<00:00,  6.06s/it, loss=0.0358, acc=99.5]\n",
      "Validation: 100%|██████████| 7/7 [00:42<00:00,  6.06s/it, loss=0.0358, acc=99.5]\n"
     ]
    },
    {
     "name": "stdout",
     "output_type": "stream",
     "text": [
      "No improvement for 1 epochs\n",
      "Train Loss: 0.0678 | Train Acc: 98.38%\n",
      "Val Loss: 0.0358 | Val Acc: 99.54%\n",
      "Learning rate: 0.000066\n",
      "--------------------------------------------------\n",
      "\n",
      "Epoch: 7/15 (Phase 2)\n"
     ]
    },
    {
     "name": "stderr",
     "output_type": "stream",
     "text": [
      "Training: 100%|██████████| 28/28 [05:29<00:00, 11.77s/it, loss=0.135, acc=98.5] \n",
      "Training: 100%|██████████| 28/28 [05:29<00:00, 11.77s/it, loss=0.135, acc=98.5] \n",
      "Validation: 100%|██████████| 7/7 [00:41<00:00,  5.91s/it, loss=0.0339, acc=99.5]\n",
      "Validation: 100%|██████████| 7/7 [00:41<00:00,  5.91s/it, loss=0.0339, acc=99.5]\n"
     ]
    },
    {
     "name": "stdout",
     "output_type": "stream",
     "text": [
      "No improvement for 2 epochs\n",
      "Train Loss: 0.1346 | Train Acc: 98.50%\n",
      "Val Loss: 0.0339 | Val Acc: 99.54%\n",
      "Learning rate: 0.000056\n",
      "--------------------------------------------------\n",
      "\n",
      "Epoch: 8/15 (Phase 2)\n"
     ]
    },
    {
     "name": "stderr",
     "output_type": "stream",
     "text": [
      "Training: 100%|██████████| 28/28 [05:30<00:00, 11.80s/it, loss=0.0574, acc=97.7]\n",
      "Training: 100%|██████████| 28/28 [05:30<00:00, 11.80s/it, loss=0.0574, acc=97.7]\n",
      "Validation: 100%|██████████| 7/7 [00:41<00:00,  5.87s/it, loss=0.0381, acc=99.5]\n",
      "Validation: 100%|██████████| 7/7 [00:41<00:00,  5.87s/it, loss=0.0381, acc=99.5]\n"
     ]
    },
    {
     "name": "stdout",
     "output_type": "stream",
     "text": [
      "No improvement for 3 epochs\n",
      "Train Loss: 0.0574 | Train Acc: 97.69%\n",
      "Val Loss: 0.0381 | Val Acc: 99.54%\n",
      "Learning rate: 0.000045\n",
      "--------------------------------------------------\n",
      "\n",
      "Epoch: 9/15 (Phase 2)\n"
     ]
    },
    {
     "name": "stderr",
     "output_type": "stream",
     "text": [
      "Training: 100%|██████████| 28/28 [05:45<00:00, 12.35s/it, loss=0.06, acc=98.2]  \n",
      "Training: 100%|██████████| 28/28 [05:45<00:00, 12.35s/it, loss=0.06, acc=98.2]  \n",
      "Validation: 100%|██████████| 7/7 [00:42<00:00,  6.01s/it, loss=1.38, acc=98.6]  \n",
      "Validation: 100%|██████████| 7/7 [00:42<00:00,  6.01s/it, loss=1.38, acc=98.6]\n"
     ]
    },
    {
     "name": "stdout",
     "output_type": "stream",
     "text": [
      "No improvement for 4 epochs\n",
      "Train Loss: 0.0600 | Train Acc: 98.15%\n",
      "Val Loss: 1.3838 | Val Acc: 98.62%\n",
      "Learning rate: 0.000035\n",
      "--------------------------------------------------\n",
      "\n",
      "Epoch: 10/15 (Phase 2)\n"
     ]
    },
    {
     "name": "stderr",
     "output_type": "stream",
     "text": [
      "Training: 100%|██████████| 28/28 [05:42<00:00, 12.24s/it, loss=0.0505, acc=99]  \n",
      "Validation:   0%|          | 0/7 [00:00<?, ?it/s]\n",
      "Validation: 100%|██████████| 7/7 [00:43<00:00,  6.24s/it, loss=0.0354, acc=99.5] \n",
      "\n"
     ]
    },
    {
     "name": "stdout",
     "output_type": "stream",
     "text": [
      "No improvement for 5 epochs\n",
      "\n",
      "Early stopping triggered! No improvement for 5 epochs.\n",
      "\n",
      "Final best validation accuracy: 99.53917050691244\n"
>>>>>>> bfd44bdfa90e5f1ccc9ef9a87d782edbb0fc0155
     ]
    },
    {
     "data": {
      "image/png": "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",
      "text/plain": [
       "<Figure size 1200x400 with 2 Axes>"
      ]
     },
     "metadata": {},
     "output_type": "display_data"
    }
   ],
   "source": [
    "# Training loop with progressive unfreezing and early stopping\n",
    "best_val_acc = 0\n",
<<<<<<< HEAD
    "patience = 8  # Number of epochs to wait for improvement\n",
=======
    "patience = 3  # Increased patience\n",
>>>>>>> bfd44bdfa90e5f1ccc9ef9a87d782edbb0fc0155
    "counter = 0    # Counter for patience\n",
    "train_losses = []\n",
    "val_losses = []\n",
    "train_accs = []\n",
    "val_accs = []\n",
    "\n",
    "def unfreeze_last_n_layers(model, n):\n",
    "    \"\"\"Unfreeze the last n blocks of the model\"\"\"\n",
    "    for param in model.parameters():\n",
    "        param.requires_grad = False\n",
    "    \n",
    "    # Unfreeze the last n blocks\n",
    "    for i, block in enumerate(model.features[-n:]):\n",
    "        for param in block.parameters():\n",
    "            param.requires_grad = True\n",
    "    \n",
    "    # Always unfreeze classifier\n",
    "    for param in model.classifier.parameters():\n",
    "        param.requires_grad = True\n",
    "\n",
    "print(\"Starting training loop...\")\n",
    "\n",
    "try:\n",
    "    # Phase 1: Train only the classifier\n",
    "    print(\"\\nPhase 1: Training classifier only...\")\n",
    "    for epoch in range(5):  # First 5 epochs\n",
    "        print(f'\\nEpoch: {epoch+1}/5 (Phase 1)')\n",
    "        \n",
<<<<<<< HEAD
    "        try:\n",
    "            # Training\n",
    "            train_loss, train_acc = train_one_epoch(\n",
    "                model, train_loader, criterion, optimizer, device, label_to_idx\n",
    "            )\n",
    "            \n",
    "            # Validation\n",
    "            val_loss, val_acc = validate(\n",
    "                model, val_loader, criterion, device, label_to_idx\n",
    "            )\n",
    "            \n",
    "            scheduler.step()\n",
    "            \n",
    "            # Early stopping check\n",
    "            if val_acc > best_val_acc:\n",
    "                counter = 0  # Reset counter\n",
    "                best_val_acc = val_acc\n",
    "                torch.save({\n",
    "                    'epoch': epoch,\n",
    "                    'model_state_dict': model.state_dict(),\n",
    "                    'optimizer_state_dict': optimizer.state_dict(),\n",
    "                    'best_val_acc': best_val_acc,\n",
    "                }, 'best_model2.pth')\n",
    "                print(f\"New best model saved! Validation accuracy: {val_acc:.2f}%\")\n",
    "            else:\n",
    "                counter += 1\n",
    "                print(f\"No improvement for {counter} epochs\")\n",
    "                if counter >= patience:\n",
    "                    print(f\"\\nEarly stopping triggered! No improvement for {patience} epochs.\")\n",
    "                    break\n",
    "            \n",
    "            print(f'Train Loss: {train_loss:.4f} | Train Acc: {train_acc:.2f}%')\n",
    "            print(f'Val Loss: {val_loss:.4f} | Val Acc: {val_acc:.2f}%')\n",
    "            print(\"-\" * 50)\n",
    "            \n",
    "        except Exception as e:\n",
    "            print(f\"Error during epoch {epoch+1}: {str(e)}\")\n",
    "            print(f\"Full error: {e.__class__.__name__}: {str(e)}\")\n",
    "            raise\n",
=======
    "        train_loss, train_acc = train_one_epoch(\n",
    "            model, train_loader, criterion, optimizer, device, label_to_idx\n",
    "        )\n",
    "        \n",
    "        val_loss, val_acc = validate(\n",
    "            model, val_loader, criterion, device, label_to_idx\n",
    "        )\n",
    "        \n",
    "        # Record metrics\n",
    "        train_losses.append(train_loss)\n",
    "        val_losses.append(val_loss)\n",
    "        train_accs.append(train_acc)\n",
    "        val_accs.append(val_acc)\n",
    "        \n",
    "        # Step the scheduler\n",
    "        scheduler.step()\n",
    "        \n",
    "        # Early stopping check\n",
    "        if val_acc > best_val_acc:\n",
    "            counter = 0  # Reset counter\n",
    "            best_val_acc = val_acc\n",
    "            torch.save({\n",
    "                'epoch': epoch,\n",
    "                'model_state_dict': model.state_dict(),\n",
    "                'optimizer_state_dict': optimizer.state_dict(),\n",
    "                'scheduler_state_dict': scheduler.state_dict(),\n",
    "                'best_val_acc': best_val_acc,\n",
    "            }, 'best_model2.pth')\n",
    "            print(f\"New best model saved! Validation accuracy: {val_acc:.2f}%\")\n",
    "        else:\n",
    "            counter += 1\n",
    "            if counter >= patience:\n",
    "                print(f\"\\nEarly stopping triggered! No improvement for {patience} epochs.\")\n",
    "                break\n",
    "        \n",
    "        print(f'Train Loss: {train_loss:.4f} | Train Acc: {train_acc:.2f}%')\n",
    "        print(f'Val Loss: {val_loss:.4f} | Val Acc: {val_acc:.2f}%')\n",
    "        print(f'Learning rate: {scheduler.get_last_lr()[0]:.6f}')\n",
    "    \n",
    "    # Phase 2: Progressive unfreezing and continue training\n",
    "    print(\"\\nPhase 2: Progressive unfreezing...\")\n",
    "    unfreeze_last_n_layers(model, 3)  # Unfreeze last 3 blocks\n",
    "    \n",
    "    # Reset optimizer and scheduler for phase 2\n",
    "    optimizer = torch.optim.AdamW(\n",
    "        filter(lambda p: p.requires_grad, model.parameters()),\n",
    "        lr=learning_rate * 0.1,  # Lower learning rate for fine-tuning\n",
    "        weight_decay=weight_decay\n",
    "    )\n",
    "    \n",
    "    scheduler = torch.optim.lr_scheduler.CosineAnnealingLR(\n",
    "        optimizer,\n",
    "        T_max=num_epochs - 5,\n",
    "        eta_min=learning_rate * 0.001  # Even lower minimum learning rate\n",
    "    )\n",
    "    \n",
    "    counter = 0  # Reset counter for phase 2\n",
    "    \n",
    "    for epoch in range(num_epochs - 5):  # Remaining epochs\n",
    "        print(f'\\nEpoch: {epoch+1}/{num_epochs-5} (Phase 2)')\n",
    "        \n",
    "        train_loss, train_acc = train_one_epoch(\n",
    "            model, train_loader, criterion, optimizer, device, label_to_idx\n",
    "        )\n",
    "        \n",
    "        val_loss, val_acc = validate(\n",
    "            model, val_loader, criterion, device, label_to_idx\n",
    "        )\n",
    "        \n",
    "        # Record metrics\n",
    "        train_losses.append(train_loss)\n",
    "        val_losses.append(val_loss)\n",
    "        train_accs.append(train_acc)\n",
    "        val_accs.append(val_acc)\n",
    "        \n",
    "        # Step the scheduler\n",
    "        scheduler.step()\n",
    "        \n",
    "        # Early stopping check\n",
    "        if val_acc > best_val_acc:\n",
    "            counter = 0  # Reset counter\n",
    "            best_val_acc = val_acc\n",
    "            torch.save({\n",
    "                'epoch': epoch + 5,  # Add phase 1 epochs\n",
    "                'model_state_dict': model.state_dict(),\n",
    "                'optimizer_state_dict': optimizer.state_dict(),\n",
    "                'scheduler_state_dict': scheduler.state_dict(),\n",
    "                'best_val_acc': best_val_acc,\n",
    "            }, 'best_model2.pth')\n",
    "            print(f\"New best model saved! Validation accuracy: {val_acc:.2f}%\")\n",
    "        else:\n",
    "            counter += 1\n",
    "            print(f\"No improvement for {counter} epochs\")\n",
    "            if counter >= patience:\n",
    "                print(f\"\\nEarly stopping triggered! No improvement for {patience} epochs.\")\n",
    "                break\n",
    "        \n",
    "        print(f'Train Loss: {train_loss:.4f} | Train Acc: {train_acc:.2f}%')\n",
    "        print(f'Val Loss: {val_loss:.4f} | Val Acc: {val_acc:.2f}%')\n",
    "        print(f'Learning rate: {scheduler.get_last_lr()[0]:.6f}')\n",
    "        print(\"-\" * 50)\n",
>>>>>>> bfd44bdfa90e5f1ccc9ef9a87d782edbb0fc0155
    "\n",
    "except KeyboardInterrupt:\n",
    "    print(\"\\nTraining interrupted by user\")\n",
    "except Exception as e:\n",
    "    print(f\"\\nTraining stopped due to error: {str(e)}\")\n",
    "    print(f\"Full error: {e.__class__.__name__}: {str(e)}\")\n",
    "    raise\n",
    "finally:\n",
    "    print(\"\\nFinal best validation accuracy:\", best_val_acc)\n",
    "    \n",
    "    # Plot training curves\n",
    "    plt.figure(figsize=(12, 4))\n",
    "    \n",
    "    plt.subplot(1, 2, 1)\n",
    "    plt.plot(train_losses, label='Train Loss')\n",
    "    plt.plot(val_losses, label='Val Loss')\n",
    "    plt.title('Loss Curves')\n",
    "    plt.xlabel('Epoch')\n",
    "    plt.ylabel('Loss')\n",
    "    plt.legend()\n",
    "    \n",
    "    plt.subplot(1, 2, 2)\n",
    "    plt.plot(train_accs, label='Train Acc')\n",
    "    plt.plot(val_accs, label='Val Acc')\n",
    "    plt.title('Accuracy Curves')\n",
    "    plt.xlabel('Epoch')\n",
    "    plt.ylabel('Accuracy (%)')\n",
    "    plt.legend()\n",
    "    \n",
    "    plt.tight_layout()\n",
    "    plt.show()"
   ]
  },
  {
   "cell_type": "markdown",
   "id": "37317523",
   "metadata": {},
   "source": [
    "## 6. Evaluasi Model\n",
    "\n",
    "Sekarang kita akan mengevaluasi performa model dengan berbagai metrik:\n",
    "\n",
    "### Metrik yang Digunakan:\n",
    "1. **Confusion Matrix**: \n",
    "   - Visualisasi prediksi vs label sebenarnya\n",
    "   - Menunjukkan kesalahan klasifikasi antar kelas\n",
    "   - Membantu identifikasi kelas yang sering tertukar\n",
    "\n",
    "2. **Classification Report**:\n",
    "   - Precision: Ketepatan prediksi positif\n",
    "   - Recall: Kemampuan mengenali sampel positif\n",
    "   - F1-score: Rata-rata harmonik precision dan recall\n",
    "   - Support: Jumlah sampel per kelas\n",
    "\n",
    "3. **Kurva ROC dan Nilai AUC**:\n",
    "   - Menunjukkan trade-off sensitivitas vs spesifisitas\n",
    "   - AUC = 1.0 berarti klasifikasi sempurna\n",
    "   - AUC = 0.5 berarti klasifikasi acak"
   ]
  },
  {
   "cell_type": "code",
   "execution_count": null,
   "id": "220b53ab",
   "metadata": {},
<<<<<<< HEAD
   "outputs": [],
=======
   "outputs": [
    {
     "name": "stdout",
     "output_type": "stream",
     "text": [
      "Getting model predictions...\n"
     ]
    },
    {
     "name": "stderr",
     "output_type": "stream",
     "text": [
      "Evaluating: 100%|██████████| 4/4 [00:35<00:00,  8.91s/it]\n",
      "\n"
     ]
    },
    {
     "data": {
      "image/png": "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",
      "text/plain": [
       "<Figure size 1200x1000 with 2 Axes>"
      ]
     },
     "metadata": {},
     "output_type": "display_data"
    },
    {
     "name": "stdout",
     "output_type": "stream",
     "text": [
      "\n",
      "Classification Report:\n",
      "              precision    recall  f1-score   support\n",
      "\n",
      "       bakso       0.97      1.00      0.99        38\n",
      "   gado_gado       0.96      0.98      0.97        44\n",
      " nasi_goreng       0.98      0.98      0.98        50\n",
      "     rendang       1.00      0.98      0.99        41\n",
      "   soto_ayam       1.00      0.98      0.99        44\n",
      "\n",
      "    accuracy                           0.98       217\n",
      "   macro avg       0.98      0.98      0.98       217\n",
      "weighted avg       0.98      0.98      0.98       217\n",
      "\n"
     ]
    },
    {
     "data": {
      "image/png": "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",
      "text/plain": [
       "<Figure size 1000x800 with 1 Axes>"
      ]
     },
     "metadata": {},
     "output_type": "display_data"
    }
   ],
>>>>>>> bfd44bdfa90e5f1ccc9ef9a87d782edbb0fc0155
   "source": [
    "from sklearn.metrics import confusion_matrix, classification_report, roc_curve, auc\n",
    "import seaborn as sns\n",
    "from itertools import cycle\n",
    "\n",
    "def evaluate_model(model, dataloader, device, label_to_idx, idx_to_label):\n",
    "    model.eval()\n",
    "    all_preds = []\n",
    "    all_labels = []\n",
    "    all_probs = []\n",
    "    \n",
    "    with torch.no_grad():\n",
    "        for inputs, labels_tuple, _ in tqdm(dataloader, desc='Evaluating'):\n",
    "            inputs = inputs.to(device)\n",
    "            \n",
    "            # Convert string labels to indices\n",
    "            if isinstance(labels_tuple[0], str):\n",
    "                label_indices = [label_to_idx[label] for label in labels_tuple]\n",
    "            else:\n",
    "                label_indices = labels_tuple\n",
    "            targets = torch.tensor(label_indices, dtype=torch.long)\n",
    "            \n",
    "            outputs = model(inputs)\n",
    "            probs = torch.softmax(outputs, dim=1)\n",
    "            _, preds = torch.max(outputs, 1)\n",
    "            \n",
    "            all_preds.extend(preds.cpu().numpy())\n",
    "            all_labels.extend(targets.cpu().numpy())\n",
    "            all_probs.extend(probs.cpu().numpy())\n",
    "    \n",
    "    return np.array(all_preds), np.array(all_labels), np.array(all_probs)\n",
    "\n",
    "# Get predictions\n",
    "print(\"Getting model predictions...\")\n",
    "val_preds, val_labels, val_probs = evaluate_model(model, val_loader, device, label_to_idx, idx_to_label)\n",
    "\n",
    "# Create confusion matrix\n",
    "cm = confusion_matrix(val_labels, val_preds)\n",
    "plt.figure(figsize=(12, 10))\n",
    "sns.heatmap(cm, annot=True, fmt='d', cmap='Blues',\n",
    "            xticklabels=[idx_to_label[i] for i in range(len(idx_to_label))],\n",
    "            yticklabels=[idx_to_label[i] for i in range(len(idx_to_label))])\n",
    "plt.title('Confusion Matrix')\n",
    "plt.xlabel('Predicted')\n",
    "plt.ylabel('True')\n",
    "plt.xticks(rotation=45, ha='right')\n",
    "plt.tight_layout()\n",
    "plt.show()\n",
    "\n",
    "# Print classification report\n",
    "print(\"\\nClassification Report:\")\n",
    "print(classification_report(val_labels, val_preds,\n",
    "                          target_names=[idx_to_label[i] for i in range(len(idx_to_label))]))\n",
    "\n",
    "# Plot ROC curves\n",
    "plt.figure(figsize=(10, 8))\n",
    "colors = cycle(['aqua', 'darkorange', 'cornflowerblue', 'red', 'green'])\n",
    "\n",
    "for i, color in zip(range(num_classes), colors):\n",
    "    fpr, tpr, _ = roc_curve((val_labels == i).astype(int), val_probs[:, i])\n",
    "    roc_auc = auc(fpr, tpr)\n",
    "    plt.plot(fpr, tpr, color=color, lw=2,\n",
    "             label=f'ROC curve of class {idx_to_label[i]} (AUC = {roc_auc:.2f})')\n",
    "\n",
    "plt.plot([0, 1], [0, 1], 'k--', lw=2)\n",
    "plt.xlim([0.0, 1.0])\n",
    "plt.ylim([0.0, 1.05])\n",
    "plt.xlabel('False Positive Rate')\n",
    "plt.ylabel('True Positive Rate')\n",
    "plt.title('Multi-class ROC Curves')\n",
    "plt.legend(loc=\"lower right\", fontsize='small')\n",
    "plt.tight_layout()\n",
    "plt.show()"
   ]
  },
  {
   "cell_type": "markdown",
   "id": "20486a6d",
   "metadata": {},
   "source": [
    "### Analisis Hasil\n",
    "\n",
    "Mari kita pahami arti dari setiap metrik evaluasi:\n",
    "\n",
    "1. **Confusion Matrix (Matriks Kebingungan)**\n",
    "   - Elemen diagonal: Jumlah prediksi yang benar\n",
    "   - Elemen non-diagonal: Kesalahan klasifikasi\n",
    "   - Warna lebih gelap menunjukkan jumlah yang lebih besar\n",
    "   - Membantu identifikasi pola kesalahan prediksi\n",
    "\n",
    "2. **Classification Report (Laporan Klasifikasi)**\n",
    "   - Precision: Seberapa akurat prediksi positif\n",
    "   - Recall: Seberapa baik model menemukan kasus positif\n",
    "   - F1-score: Keseimbangan antara precision dan recall\n",
    "   - Support: Jumlah sampel dalam dataset\n",
    "\n",
    "3. **Kurva ROC dan AUC**\n",
    "   - True Positive Rate: Kemampuan mendeteksi kasus positif\n",
    "   - False Positive Rate: Tingkat kesalahan positif\n",
    "   - AUC mendekati 1.0: Model sangat baik\n",
    "   - AUC mendekati 0.5: Model seperti menebak acak\n",
    "\n",
    "4. **Visualisasi Prediksi**\n",
    "   - Gambar dengan label hijau: Prediksi benar\n",
    "   - Gambar dengan label merah: Prediksi salah\n",
    "   - Membantu memahami jenis kesalahan visual yang dibuat model"
   ]
  },
  {
   "cell_type": "code",
   "execution_count": null,
   "id": "5b1a3ff8",
   "metadata": {},
   "outputs": [],
   "source": [
    "# Visualize some predictions\n",
    "def show_predictions(model, dataloader, device, num_images=5):\n",
    "    model.eval()\n",
    "    all_images = []\n",
    "    all_preds = []\n",
    "    all_labels = []\n",
    "    \n",
    "    with torch.no_grad():\n",
    "        for inputs, labels, _ in dataloader:\n",
    "            if len(all_images) >= num_images:\n",
    "                break\n",
    "                \n",
    "            inputs = inputs.to(device)\n",
    "            outputs = model(inputs)\n",
    "            _, preds = torch.max(outputs, 1)\n",
    "            \n",
    "            # Convert tensors to numpy for visualization\n",
    "            images = inputs.cpu().numpy()\n",
    "            preds = preds.cpu().numpy()\n",
    "            \n",
    "            all_images.extend(images)\n",
    "            all_preds.extend(preds)\n",
    "            all_labels.extend(labels)\n",
    "    \n",
    "    # Plot images with predictions\n",
    "    fig, axes = plt.subplots(1, num_images, figsize=(20, 4))\n",
    "    for i, (img, pred, true_label) in enumerate(zip(all_images[:num_images], \n",
    "                                                   all_preds[:num_images], \n",
    "                                                   all_labels[:num_images])):\n",
    "        # Convert from CHW to HWC format and denormalize\n",
    "        img = img.transpose(1, 2, 0)\n",
    "        img = img * np.array(MakananIndo.IMAGENET_STD) + np.array(MakananIndo.IMAGENET_MEAN)\n",
    "        img = np.clip(img, 0, 1)\n",
    "        \n",
    "        axes[i].imshow(img)\n",
    "        color = 'green' if idx_to_label[pred] == true_label else 'red'\n",
    "        axes[i].set_title(f'Pred: {idx_to_label[pred]}\\nTrue: {true_label}', \n",
    "                         color=color)\n",
    "        axes[i].axis('off')\n",
    "    \n",
    "    plt.tight_layout()\n",
    "    plt.show()\n",
    "\n",
    "# Show some example predictions\n",
    "print(\"Visualizing some predictions...\")\n",
    "show_predictions(model, val_loader, device)"
   ]
  }
 ],
 "metadata": {
  "kernelspec": {
   "display_name": "300Gecs",
   "language": "python",
   "name": "python3"
  },
  "language_info": {
   "codemirror_mode": {
    "name": "ipython",
    "version": 3
   },
   "file_extension": ".py",
   "mimetype": "text/x-python",
   "name": "python",
   "nbconvert_exporter": "python",
   "pygments_lexer": "ipython3",
<<<<<<< HEAD
   "version": "3.11.9"
=======
   "version": "3.13.5"
>>>>>>> bfd44bdfa90e5f1ccc9ef9a87d782edbb0fc0155
  }
 },
 "nbformat": 4,
 "nbformat_minor": 5
}
